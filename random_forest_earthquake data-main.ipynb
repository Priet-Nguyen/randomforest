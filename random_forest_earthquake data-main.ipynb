{
 "cells": [
  {
   "cell_type": "code",
   "execution_count": 1,
   "id": "fcc9410d",
   "metadata": {},
   "outputs": [],
   "source": [
    "import pandas as pd\n",
    "import numpy as np\n",
    "from sklearn.datasets import load_iris\n",
    "import matplotlib.pyplot as plt\n",
    "import seaborn as sns\n",
    "\n",
    "from sklearn.model_selection import train_test_split\n",
    "from sklearn.ensemble import RandomForestClassifier, RandomForestRegressor\n",
    "from sklearn.metrics import accuracy_score, classification_report, confusion_matrix\n",
    "from sklearn.metrics import mean_squared_error, r2_score\n",
    "\n",
    "from sklearn.linear_model import LinearRegression"
   ]
  },
  {
   "cell_type": "code",
   "execution_count": 2,
   "id": "f4740fc7",
   "metadata": {},
   "outputs": [],
   "source": [
    "# Read the csv file into a Pandas DataFrame\n",
    "file_path='earthquake_southeast_asia.csv'\n",
    "df = pd.read_csv(file_path)"
   ]
  },
  {
   "cell_type": "code",
   "execution_count": 3,
   "id": "5efa2255",
   "metadata": {},
   "outputs": [
    {
     "data": {
      "text/html": [
       "<div>\n",
       "<style scoped>\n",
       "    .dataframe tbody tr th:only-of-type {\n",
       "        vertical-align: middle;\n",
       "    }\n",
       "\n",
       "    .dataframe tbody tr th {\n",
       "        vertical-align: top;\n",
       "    }\n",
       "\n",
       "    .dataframe thead th {\n",
       "        text-align: right;\n",
       "    }\n",
       "</style>\n",
       "<table border=\"1\" class=\"dataframe\">\n",
       "  <thead>\n",
       "    <tr style=\"text-align: right;\">\n",
       "      <th></th>\n",
       "      <th>year</th>\n",
       "      <th>month</th>\n",
       "      <th>day</th>\n",
       "      <th>hour</th>\n",
       "      <th>minute</th>\n",
       "      <th>second</th>\n",
       "      <th>latitude</th>\n",
       "      <th>longitude</th>\n",
       "      <th>Depth</th>\n",
       "      <th>Magnitude</th>\n",
       "    </tr>\n",
       "  </thead>\n",
       "  <tbody>\n",
       "    <tr>\n",
       "      <th>0</th>\n",
       "      <td>1900</td>\n",
       "      <td>1</td>\n",
       "      <td>5</td>\n",
       "      <td>19</td>\n",
       "      <td>0</td>\n",
       "      <td>0</td>\n",
       "      <td>-3.0</td>\n",
       "      <td>102.0</td>\n",
       "      <td>0.0</td>\n",
       "      <td>6.9</td>\n",
       "    </tr>\n",
       "    <tr>\n",
       "      <th>1</th>\n",
       "      <td>1900</td>\n",
       "      <td>4</td>\n",
       "      <td>24</td>\n",
       "      <td>23</td>\n",
       "      <td>16</td>\n",
       "      <td>0</td>\n",
       "      <td>27.0</td>\n",
       "      <td>126.5</td>\n",
       "      <td>35.0</td>\n",
       "      <td>7.0</td>\n",
       "    </tr>\n",
       "    <tr>\n",
       "      <th>2</th>\n",
       "      <td>1901</td>\n",
       "      <td>2</td>\n",
       "      <td>15</td>\n",
       "      <td>0</td>\n",
       "      <td>0</td>\n",
       "      <td>0</td>\n",
       "      <td>26.0</td>\n",
       "      <td>100.1</td>\n",
       "      <td>0.0</td>\n",
       "      <td>6.5</td>\n",
       "    </tr>\n",
       "    <tr>\n",
       "      <th>3</th>\n",
       "      <td>1901</td>\n",
       "      <td>4</td>\n",
       "      <td>5</td>\n",
       "      <td>21</td>\n",
       "      <td>53</td>\n",
       "      <td>0</td>\n",
       "      <td>2.0</td>\n",
       "      <td>130.0</td>\n",
       "      <td>0.0</td>\n",
       "      <td>6.8</td>\n",
       "    </tr>\n",
       "    <tr>\n",
       "      <th>4</th>\n",
       "      <td>1901</td>\n",
       "      <td>6</td>\n",
       "      <td>24</td>\n",
       "      <td>7</td>\n",
       "      <td>2</td>\n",
       "      <td>0</td>\n",
       "      <td>28.0</td>\n",
       "      <td>130.0</td>\n",
       "      <td>35.0</td>\n",
       "      <td>7.5</td>\n",
       "    </tr>\n",
       "  </tbody>\n",
       "</table>\n",
       "</div>"
      ],
      "text/plain": [
       "   year  month  day  hour  minute  second  latitude  longitude  Depth  \\\n",
       "0  1900      1    5    19       0       0      -3.0      102.0    0.0   \n",
       "1  1900      4   24    23      16       0      27.0      126.5   35.0   \n",
       "2  1901      2   15     0       0       0      26.0      100.1    0.0   \n",
       "3  1901      4    5    21      53       0       2.0      130.0    0.0   \n",
       "4  1901      6   24     7       2       0      28.0      130.0   35.0   \n",
       "\n",
       "   Magnitude  \n",
       "0        6.9  \n",
       "1        7.0  \n",
       "2        6.5  \n",
       "3        6.8  \n",
       "4        7.5  "
      ]
     },
     "execution_count": 3,
     "metadata": {},
     "output_type": "execute_result"
    }
   ],
   "source": [
    "df.head()"
   ]
  },
  {
   "cell_type": "code",
   "execution_count": 4,
   "id": "c6acdd20",
   "metadata": {},
   "outputs": [],
   "source": [
    "df_=df.copy()"
   ]
  },
  {
   "cell_type": "code",
   "execution_count": 5,
   "id": "f6d1f8a0",
   "metadata": {},
   "outputs": [],
   "source": [
    "df_.drop(['year', 'month', 'day', 'hour', 'minute', 'second'], axis=1, inplace=True)"
   ]
  },
  {
   "cell_type": "code",
   "execution_count": 6,
   "id": "fb3e2af4",
   "metadata": {},
   "outputs": [
    {
     "data": {
      "text/html": [
       "<div>\n",
       "<style scoped>\n",
       "    .dataframe tbody tr th:only-of-type {\n",
       "        vertical-align: middle;\n",
       "    }\n",
       "\n",
       "    .dataframe tbody tr th {\n",
       "        vertical-align: top;\n",
       "    }\n",
       "\n",
       "    .dataframe thead th {\n",
       "        text-align: right;\n",
       "    }\n",
       "</style>\n",
       "<table border=\"1\" class=\"dataframe\">\n",
       "  <thead>\n",
       "    <tr style=\"text-align: right;\">\n",
       "      <th></th>\n",
       "      <th>latitude</th>\n",
       "      <th>longitude</th>\n",
       "      <th>Depth</th>\n",
       "      <th>Magnitude</th>\n",
       "    </tr>\n",
       "  </thead>\n",
       "  <tbody>\n",
       "    <tr>\n",
       "      <th>0</th>\n",
       "      <td>-3.0</td>\n",
       "      <td>102.0</td>\n",
       "      <td>0.0</td>\n",
       "      <td>6.9</td>\n",
       "    </tr>\n",
       "    <tr>\n",
       "      <th>1</th>\n",
       "      <td>27.0</td>\n",
       "      <td>126.5</td>\n",
       "      <td>35.0</td>\n",
       "      <td>7.0</td>\n",
       "    </tr>\n",
       "    <tr>\n",
       "      <th>2</th>\n",
       "      <td>26.0</td>\n",
       "      <td>100.1</td>\n",
       "      <td>0.0</td>\n",
       "      <td>6.5</td>\n",
       "    </tr>\n",
       "    <tr>\n",
       "      <th>3</th>\n",
       "      <td>2.0</td>\n",
       "      <td>130.0</td>\n",
       "      <td>0.0</td>\n",
       "      <td>6.8</td>\n",
       "    </tr>\n",
       "    <tr>\n",
       "      <th>4</th>\n",
       "      <td>28.0</td>\n",
       "      <td>130.0</td>\n",
       "      <td>35.0</td>\n",
       "      <td>7.5</td>\n",
       "    </tr>\n",
       "  </tbody>\n",
       "</table>\n",
       "</div>"
      ],
      "text/plain": [
       "   latitude  longitude  Depth  Magnitude\n",
       "0      -3.0      102.0    0.0        6.9\n",
       "1      27.0      126.5   35.0        7.0\n",
       "2      26.0      100.1    0.0        6.5\n",
       "3       2.0      130.0    0.0        6.8\n",
       "4      28.0      130.0   35.0        7.5"
      ]
     },
     "execution_count": 6,
     "metadata": {},
     "output_type": "execute_result"
    }
   ],
   "source": [
    "df_.head()"
   ]
  },
  {
   "cell_type": "code",
   "execution_count": 7,
   "id": "63a7a62b",
   "metadata": {},
   "outputs": [
    {
     "data": {
      "text/plain": [
       "208824"
      ]
     },
     "execution_count": 7,
     "metadata": {},
     "output_type": "execute_result"
    }
   ],
   "source": [
    "len(df_)"
   ]
  },
  {
   "cell_type": "code",
   "execution_count": 8,
   "id": "c40327d1",
   "metadata": {},
   "outputs": [
    {
     "data": {
      "text/plain": [
       "array([6.9, 7. , 6.5, 6.8, 7.5, 6.6, 7.1, 7.6, 7.3, 7.8, 6.7, 7.2, 7.4,\n",
       "       8.1, 8.2, 7.7, 6.4, 8.3, 6.3, 6.1, 8. , 5.8, 5.5, 6. , 6.2, 5.9,\n",
       "       5.7, 8.5, 7.9, 8.6, 5.6, 4.9, 5.2, 5.1, 4.5, 4.8, 4. , 5.4, 5. ,\n",
       "       4.2, 4.6, 4.3, 4.7, 4.4, 5.3, 4.1, 3.8, 3.7, 3.6, 3.3, 3.9, 3.4,\n",
       "       3.2, 3.5, 3.1, 3. , 9.1, 8.4, 0. ])"
      ]
     },
     "execution_count": 8,
     "metadata": {},
     "output_type": "execute_result"
    }
   ],
   "source": [
    "#values in column 'Magnitude'\n",
    "unique_values = df_['Magnitude'].unique()\n",
    "unique_values"
   ]
  },
  {
   "cell_type": "code",
   "execution_count": 9,
   "id": "7ffc4d13",
   "metadata": {},
   "outputs": [
    {
     "data": {
      "text/plain": [
       "4.2"
      ]
     },
     "execution_count": 9,
     "metadata": {},
     "output_type": "execute_result"
    }
   ],
   "source": [
    "median_value = df_['Magnitude'].median()\n",
    "median_value"
   ]
  },
  {
   "cell_type": "markdown",
   "id": "568ce438",
   "metadata": {},
   "source": [
    "### 1. binary random forest classifier"
   ]
  },
  {
   "cell_type": "code",
   "execution_count": 10,
   "id": "6bd92214",
   "metadata": {},
   "outputs": [],
   "source": [
    "mask=df_['Magnitude']> 4.2"
   ]
  },
  {
   "cell_type": "code",
   "execution_count": 11,
   "id": "25d89cb6",
   "metadata": {},
   "outputs": [],
   "source": [
    "df_['magnitude_0_1']=mask\n",
    "df_['magnitude_0_1'] = df_['magnitude_0_1'].astype(int)"
   ]
  },
  {
   "cell_type": "code",
   "execution_count": 12,
   "id": "5e196524",
   "metadata": {},
   "outputs": [
    {
     "data": {
      "text/html": [
       "<div>\n",
       "<style scoped>\n",
       "    .dataframe tbody tr th:only-of-type {\n",
       "        vertical-align: middle;\n",
       "    }\n",
       "\n",
       "    .dataframe tbody tr th {\n",
       "        vertical-align: top;\n",
       "    }\n",
       "\n",
       "    .dataframe thead th {\n",
       "        text-align: right;\n",
       "    }\n",
       "</style>\n",
       "<table border=\"1\" class=\"dataframe\">\n",
       "  <thead>\n",
       "    <tr style=\"text-align: right;\">\n",
       "      <th></th>\n",
       "      <th>latitude</th>\n",
       "      <th>longitude</th>\n",
       "      <th>Depth</th>\n",
       "      <th>Magnitude</th>\n",
       "      <th>magnitude_0_1</th>\n",
       "    </tr>\n",
       "  </thead>\n",
       "  <tbody>\n",
       "    <tr>\n",
       "      <th>0</th>\n",
       "      <td>-3.0</td>\n",
       "      <td>102.0</td>\n",
       "      <td>0.0</td>\n",
       "      <td>6.9</td>\n",
       "      <td>1</td>\n",
       "    </tr>\n",
       "    <tr>\n",
       "      <th>1</th>\n",
       "      <td>27.0</td>\n",
       "      <td>126.5</td>\n",
       "      <td>35.0</td>\n",
       "      <td>7.0</td>\n",
       "      <td>1</td>\n",
       "    </tr>\n",
       "    <tr>\n",
       "      <th>2</th>\n",
       "      <td>26.0</td>\n",
       "      <td>100.1</td>\n",
       "      <td>0.0</td>\n",
       "      <td>6.5</td>\n",
       "      <td>1</td>\n",
       "    </tr>\n",
       "    <tr>\n",
       "      <th>3</th>\n",
       "      <td>2.0</td>\n",
       "      <td>130.0</td>\n",
       "      <td>0.0</td>\n",
       "      <td>6.8</td>\n",
       "      <td>1</td>\n",
       "    </tr>\n",
       "    <tr>\n",
       "      <th>4</th>\n",
       "      <td>28.0</td>\n",
       "      <td>130.0</td>\n",
       "      <td>35.0</td>\n",
       "      <td>7.5</td>\n",
       "      <td>1</td>\n",
       "    </tr>\n",
       "  </tbody>\n",
       "</table>\n",
       "</div>"
      ],
      "text/plain": [
       "   latitude  longitude  Depth  Magnitude  magnitude_0_1\n",
       "0      -3.0      102.0    0.0        6.9              1\n",
       "1      27.0      126.5   35.0        7.0              1\n",
       "2      26.0      100.1    0.0        6.5              1\n",
       "3       2.0      130.0    0.0        6.8              1\n",
       "4      28.0      130.0   35.0        7.5              1"
      ]
     },
     "execution_count": 12,
     "metadata": {},
     "output_type": "execute_result"
    }
   ],
   "source": [
    "df_.head()"
   ]
  },
  {
   "cell_type": "code",
   "execution_count": 13,
   "id": "79de87f7",
   "metadata": {},
   "outputs": [],
   "source": [
    "# Extract features (X) and target (y)\n",
    "X = df_.drop('magnitude_0_1', axis=1)  # Drop the target column to get the feature matrix X\n",
    "y = df_['magnitude_0_1']  # Select the target column as the target vector y"
   ]
  },
  {
   "cell_type": "code",
   "execution_count": 14,
   "id": "de1748f1",
   "metadata": {},
   "outputs": [],
   "source": [
    "# Split the data into training and testing sets\n",
    "X_train, X_test, y_train, y_test = train_test_split(X, y, test_size=0.2, random_state=42)"
   ]
  },
  {
   "cell_type": "code",
   "execution_count": 15,
   "id": "256e0cc5",
   "metadata": {},
   "outputs": [
    {
     "data": {
      "text/plain": [
       "RandomForestClassifier(random_state=42)"
      ]
     },
     "execution_count": 15,
     "metadata": {},
     "output_type": "execute_result"
    }
   ],
   "source": [
    "# Create a Random Forest classifier\n",
    "rf_classifier = RandomForestClassifier(n_estimators=100, random_state=42)\n",
    "\n",
    "# Train the classifier on the training data\n",
    "rf_classifier.fit(X_train, y_train)"
   ]
  },
  {
   "cell_type": "code",
   "execution_count": 16,
   "id": "4d7a7cae",
   "metadata": {},
   "outputs": [],
   "source": [
    "#Make predictions and evaluate the model\n",
    "y_pred = rf_classifier.predict(X_test)"
   ]
  },
  {
   "cell_type": "code",
   "execution_count": 17,
   "id": "85d4bb24",
   "metadata": {},
   "outputs": [
    {
     "name": "stdout",
     "output_type": "stream",
     "text": [
      "Accuracy: 1.0\n",
      "Classification Report:\n",
      "               precision    recall  f1-score   support\n",
      "\n",
      "           0       1.00      1.00      1.00     23735\n",
      "           1       1.00      1.00      1.00     18030\n",
      "\n",
      "    accuracy                           1.00     41765\n",
      "   macro avg       1.00      1.00      1.00     41765\n",
      "weighted avg       1.00      1.00      1.00     41765\n",
      "\n",
      "Confusion Matrix:\n",
      " [[23735     0]\n",
      " [    0 18030]]\n"
     ]
    }
   ],
   "source": [
    "# Evaluate the model using appropriate evaluation metrics\n",
    "from sklearn.metrics import accuracy_score, classification_report, confusion_matrix\n",
    "\n",
    "accuracy = accuracy_score(y_test, y_pred)\n",
    "classification_rep = classification_report(y_test, y_pred)\n",
    "confusion_mat = confusion_matrix(y_test, y_pred)\n",
    "\n",
    "print(\"Accuracy:\", accuracy)\n",
    "print(\"Classification Report:\\n\", classification_rep)\n",
    "print(\"Confusion Matrix:\\n\", confusion_mat)"
   ]
  },
  {
   "cell_type": "markdown",
   "id": "a9c5322a",
   "metadata": {},
   "source": [
    "### 2. random forest regressor"
   ]
  },
  {
   "cell_type": "code",
   "execution_count": 18,
   "id": "27cd5780",
   "metadata": {},
   "outputs": [],
   "source": [
    "df_regr=df.copy()"
   ]
  },
  {
   "cell_type": "code",
   "execution_count": 19,
   "id": "29a22df7",
   "metadata": {},
   "outputs": [
    {
     "data": {
      "text/html": [
       "<div>\n",
       "<style scoped>\n",
       "    .dataframe tbody tr th:only-of-type {\n",
       "        vertical-align: middle;\n",
       "    }\n",
       "\n",
       "    .dataframe tbody tr th {\n",
       "        vertical-align: top;\n",
       "    }\n",
       "\n",
       "    .dataframe thead th {\n",
       "        text-align: right;\n",
       "    }\n",
       "</style>\n",
       "<table border=\"1\" class=\"dataframe\">\n",
       "  <thead>\n",
       "    <tr style=\"text-align: right;\">\n",
       "      <th></th>\n",
       "      <th>year</th>\n",
       "      <th>month</th>\n",
       "      <th>day</th>\n",
       "      <th>hour</th>\n",
       "      <th>minute</th>\n",
       "      <th>second</th>\n",
       "      <th>latitude</th>\n",
       "      <th>longitude</th>\n",
       "      <th>Depth</th>\n",
       "      <th>Magnitude</th>\n",
       "    </tr>\n",
       "  </thead>\n",
       "  <tbody>\n",
       "    <tr>\n",
       "      <th>0</th>\n",
       "      <td>1900</td>\n",
       "      <td>1</td>\n",
       "      <td>5</td>\n",
       "      <td>19</td>\n",
       "      <td>0</td>\n",
       "      <td>0</td>\n",
       "      <td>-3.0</td>\n",
       "      <td>102.0</td>\n",
       "      <td>0.0</td>\n",
       "      <td>6.9</td>\n",
       "    </tr>\n",
       "    <tr>\n",
       "      <th>1</th>\n",
       "      <td>1900</td>\n",
       "      <td>4</td>\n",
       "      <td>24</td>\n",
       "      <td>23</td>\n",
       "      <td>16</td>\n",
       "      <td>0</td>\n",
       "      <td>27.0</td>\n",
       "      <td>126.5</td>\n",
       "      <td>35.0</td>\n",
       "      <td>7.0</td>\n",
       "    </tr>\n",
       "    <tr>\n",
       "      <th>2</th>\n",
       "      <td>1901</td>\n",
       "      <td>2</td>\n",
       "      <td>15</td>\n",
       "      <td>0</td>\n",
       "      <td>0</td>\n",
       "      <td>0</td>\n",
       "      <td>26.0</td>\n",
       "      <td>100.1</td>\n",
       "      <td>0.0</td>\n",
       "      <td>6.5</td>\n",
       "    </tr>\n",
       "    <tr>\n",
       "      <th>3</th>\n",
       "      <td>1901</td>\n",
       "      <td>4</td>\n",
       "      <td>5</td>\n",
       "      <td>21</td>\n",
       "      <td>53</td>\n",
       "      <td>0</td>\n",
       "      <td>2.0</td>\n",
       "      <td>130.0</td>\n",
       "      <td>0.0</td>\n",
       "      <td>6.8</td>\n",
       "    </tr>\n",
       "    <tr>\n",
       "      <th>4</th>\n",
       "      <td>1901</td>\n",
       "      <td>6</td>\n",
       "      <td>24</td>\n",
       "      <td>7</td>\n",
       "      <td>2</td>\n",
       "      <td>0</td>\n",
       "      <td>28.0</td>\n",
       "      <td>130.0</td>\n",
       "      <td>35.0</td>\n",
       "      <td>7.5</td>\n",
       "    </tr>\n",
       "  </tbody>\n",
       "</table>\n",
       "</div>"
      ],
      "text/plain": [
       "   year  month  day  hour  minute  second  latitude  longitude  Depth  \\\n",
       "0  1900      1    5    19       0       0      -3.0      102.0    0.0   \n",
       "1  1900      4   24    23      16       0      27.0      126.5   35.0   \n",
       "2  1901      2   15     0       0       0      26.0      100.1    0.0   \n",
       "3  1901      4    5    21      53       0       2.0      130.0    0.0   \n",
       "4  1901      6   24     7       2       0      28.0      130.0   35.0   \n",
       "\n",
       "   Magnitude  \n",
       "0        6.9  \n",
       "1        7.0  \n",
       "2        6.5  \n",
       "3        6.8  \n",
       "4        7.5  "
      ]
     },
     "execution_count": 19,
     "metadata": {},
     "output_type": "execute_result"
    }
   ],
   "source": [
    "df_regr.head()"
   ]
  },
  {
   "cell_type": "code",
   "execution_count": 20,
   "id": "e9d2f786",
   "metadata": {},
   "outputs": [],
   "source": [
    "df_regr.drop(['year', 'month', 'day', 'hour', 'minute', 'second'], axis=1, inplace=True)"
   ]
  },
  {
   "cell_type": "code",
   "execution_count": 21,
   "id": "671ab79d",
   "metadata": {},
   "outputs": [],
   "source": [
    "# Extract features (X) and target (y)\n",
    "X = df_regr.drop('Magnitude', axis=1)  # Drop the target column to get the feature matrix X\n",
    "y = df_regr['Magnitude']  # Select the target column as the target vector y"
   ]
  },
  {
   "cell_type": "code",
   "execution_count": 22,
   "id": "7509516c",
   "metadata": {},
   "outputs": [],
   "source": [
    "X_train, X_test, y_train, y_test = train_test_split(X, y, test_size=0.2, random_state=3)"
   ]
  },
  {
   "cell_type": "code",
   "execution_count": 23,
   "id": "dd0f57d3",
   "metadata": {},
   "outputs": [
    {
     "data": {
      "text/plain": [
       "RandomForestRegressor(random_state=3)"
      ]
     },
     "execution_count": 23,
     "metadata": {},
     "output_type": "execute_result"
    }
   ],
   "source": [
    "rf_regressor = RandomForestRegressor(n_estimators=100, random_state=3)\n",
    "rf_regressor.fit(X_train, y_train)"
   ]
  },
  {
   "cell_type": "code",
   "execution_count": 24,
   "id": "2eb22af9",
   "metadata": {},
   "outputs": [
    {
     "name": "stdout",
     "output_type": "stream",
     "text": [
      "Mean Squared Error: 0.24109084542619913\n",
      "R-squared: 0.2634225998064771\n"
     ]
    }
   ],
   "source": [
    "y_pred = rf_regressor.predict(X_test)\n",
    "\n",
    "# Evaluate the model\n",
    "mse = mean_squared_error(y_test, y_pred)\n",
    "r2 = r2_score(y_test, y_pred)\n",
    "\n",
    "print(\"Mean Squared Error:\", mse)\n",
    "print(\"R-squared:\", r2)"
   ]
  },
  {
   "cell_type": "markdown",
   "id": "a3ccefea",
   "metadata": {},
   "source": [
    "### Compare random forest with regression model"
   ]
  },
  {
   "cell_type": "code",
   "execution_count": 25,
   "id": "e6af5f96",
   "metadata": {},
   "outputs": [
    {
     "data": {
      "text/plain": [
       "LinearRegression()"
      ]
     },
     "execution_count": 25,
     "metadata": {},
     "output_type": "execute_result"
    }
   ],
   "source": [
    "# Create and train the Linear Regression model\n",
    "linear_regressor = LinearRegression()\n",
    "linear_regressor.fit(X_train, y_train)"
   ]
  },
  {
   "cell_type": "code",
   "execution_count": 26,
   "id": "07200316",
   "metadata": {},
   "outputs": [
    {
     "name": "stdout",
     "output_type": "stream",
     "text": [
      "Linear Regression - Mean Squared Error: 0.2922862334908557\n",
      "Linear Regression - R-squared: 0.10701116172013736\n"
     ]
    }
   ],
   "source": [
    "# Make predictions using the Linear Regression model\n",
    "linear_predictions = linear_regressor.predict(X_test)\n",
    "\n",
    "# Evaluate the Linear Regression model\n",
    "linear_mse = mean_squared_error(y_test, linear_predictions)\n",
    "linear_r2 = r2_score(y_test, linear_predictions)\n",
    "\n",
    "print(\"Linear Regression - Mean Squared Error:\", linear_mse)\n",
    "print(\"Linear Regression - R-squared:\", linear_r2)"
   ]
  },
  {
   "cell_type": "markdown",
   "id": "b2647727",
   "metadata": {},
   "source": [
    "Linear Regression:\n",
    "\n",
    "* Mean Squared Error (MSE): 0.2923\n",
    " R-squared (R2): 0.1070\n",
    "* Random Forest Regressor:\n",
    "Mean Squared Error (MSE): 0.2411\n",
    "R-squared (R2): 0.2634\n",
    "* In this comparison:\n",
    "\n",
    "The MSE for the Random Forest Regressor (0.2411) is lower than that for the Linear Regression model (0.2923). A lower MSE suggests that the Random Forest model provides more accurate predictions on average.\n",
    "\n",
    "The R-squared (R2) for the Random Forest Regressor (0.2634) is higher than that for the Linear Regression model (0.1070). A higher R2 indicates that the Random Forest model explains more of the variance in the target variable and provides a better fit to the data.\n",
    "\n",
    "* Based on these metrics:\n",
    "\n",
    "The Random Forest Regressor outperforms the Linear Regression model in terms of both MSE and R2.\n",
    "The Random Forest model appears to be a better choice for this regression task as it provides more accurate predictions and captures more of the variance in the earthquake magnitude."
   ]
  },
  {
   "cell_type": "markdown",
   "id": "27a9f2c6",
   "metadata": {},
   "source": [
    "Keep in mind that these results are specific to this dataset and the models used. When comparing models, it's important to consider other factors like model complexity, interpretability, and computational efficiency, as well as domain-specific requirements."
   ]
  },
  {
   "cell_type": "markdown",
   "id": "cbe6cd7c",
   "metadata": {},
   "source": [
    "### 4. Random forest multiclass classifier"
   ]
  },
  {
   "cell_type": "markdown",
   "id": "b8f55f3b",
   "metadata": {},
   "source": [
    "We will classify the magninute of earthquakes to 3 different classes: \n",
    "* Magnitude below 4.2: below median of earthquakes\n",
    "* Magnitude between 4.2 and 6: low earthquake\n",
    "* Magnitude above 6: strong earthquake"
   ]
  },
  {
   "cell_type": "code",
   "execution_count": 62,
   "id": "a3e73fe3",
   "metadata": {},
   "outputs": [],
   "source": [
    "df_mult=df.copy()"
   ]
  },
  {
   "cell_type": "code",
   "execution_count": 63,
   "id": "4a87e959",
   "metadata": {},
   "outputs": [
    {
     "data": {
      "text/html": [
       "<div>\n",
       "<style scoped>\n",
       "    .dataframe tbody tr th:only-of-type {\n",
       "        vertical-align: middle;\n",
       "    }\n",
       "\n",
       "    .dataframe tbody tr th {\n",
       "        vertical-align: top;\n",
       "    }\n",
       "\n",
       "    .dataframe thead th {\n",
       "        text-align: right;\n",
       "    }\n",
       "</style>\n",
       "<table border=\"1\" class=\"dataframe\">\n",
       "  <thead>\n",
       "    <tr style=\"text-align: right;\">\n",
       "      <th></th>\n",
       "      <th>year</th>\n",
       "      <th>month</th>\n",
       "      <th>day</th>\n",
       "      <th>hour</th>\n",
       "      <th>minute</th>\n",
       "      <th>second</th>\n",
       "      <th>latitude</th>\n",
       "      <th>longitude</th>\n",
       "      <th>Depth</th>\n",
       "      <th>Magnitude</th>\n",
       "    </tr>\n",
       "  </thead>\n",
       "  <tbody>\n",
       "    <tr>\n",
       "      <th>0</th>\n",
       "      <td>1900</td>\n",
       "      <td>1</td>\n",
       "      <td>5</td>\n",
       "      <td>19</td>\n",
       "      <td>0</td>\n",
       "      <td>0</td>\n",
       "      <td>-3.0</td>\n",
       "      <td>102.0</td>\n",
       "      <td>0.0</td>\n",
       "      <td>6.9</td>\n",
       "    </tr>\n",
       "    <tr>\n",
       "      <th>1</th>\n",
       "      <td>1900</td>\n",
       "      <td>4</td>\n",
       "      <td>24</td>\n",
       "      <td>23</td>\n",
       "      <td>16</td>\n",
       "      <td>0</td>\n",
       "      <td>27.0</td>\n",
       "      <td>126.5</td>\n",
       "      <td>35.0</td>\n",
       "      <td>7.0</td>\n",
       "    </tr>\n",
       "    <tr>\n",
       "      <th>2</th>\n",
       "      <td>1901</td>\n",
       "      <td>2</td>\n",
       "      <td>15</td>\n",
       "      <td>0</td>\n",
       "      <td>0</td>\n",
       "      <td>0</td>\n",
       "      <td>26.0</td>\n",
       "      <td>100.1</td>\n",
       "      <td>0.0</td>\n",
       "      <td>6.5</td>\n",
       "    </tr>\n",
       "    <tr>\n",
       "      <th>3</th>\n",
       "      <td>1901</td>\n",
       "      <td>4</td>\n",
       "      <td>5</td>\n",
       "      <td>21</td>\n",
       "      <td>53</td>\n",
       "      <td>0</td>\n",
       "      <td>2.0</td>\n",
       "      <td>130.0</td>\n",
       "      <td>0.0</td>\n",
       "      <td>6.8</td>\n",
       "    </tr>\n",
       "    <tr>\n",
       "      <th>4</th>\n",
       "      <td>1901</td>\n",
       "      <td>6</td>\n",
       "      <td>24</td>\n",
       "      <td>7</td>\n",
       "      <td>2</td>\n",
       "      <td>0</td>\n",
       "      <td>28.0</td>\n",
       "      <td>130.0</td>\n",
       "      <td>35.0</td>\n",
       "      <td>7.5</td>\n",
       "    </tr>\n",
       "  </tbody>\n",
       "</table>\n",
       "</div>"
      ],
      "text/plain": [
       "   year  month  day  hour  minute  second  latitude  longitude  Depth  \\\n",
       "0  1900      1    5    19       0       0      -3.0      102.0    0.0   \n",
       "1  1900      4   24    23      16       0      27.0      126.5   35.0   \n",
       "2  1901      2   15     0       0       0      26.0      100.1    0.0   \n",
       "3  1901      4    5    21      53       0       2.0      130.0    0.0   \n",
       "4  1901      6   24     7       2       0      28.0      130.0   35.0   \n",
       "\n",
       "   Magnitude  \n",
       "0        6.9  \n",
       "1        7.0  \n",
       "2        6.5  \n",
       "3        6.8  \n",
       "4        7.5  "
      ]
     },
     "execution_count": 63,
     "metadata": {},
     "output_type": "execute_result"
    }
   ],
   "source": [
    "df_mult.head()"
   ]
  },
  {
   "cell_type": "code",
   "execution_count": 29,
   "id": "8b3bcda0",
   "metadata": {},
   "outputs": [],
   "source": [
    "df_mult.drop(['year', 'month', 'day', 'hour', 'minute', 'second'], axis=1, inplace=True)"
   ]
  },
  {
   "cell_type": "code",
   "execution_count": 64,
   "id": "b7cd4f3d",
   "metadata": {},
   "outputs": [],
   "source": [
    "# Define a function to categorize the 3 classes\n",
    "def categorize_magnitude(magnitude):\n",
    "    if magnitude < 4.2:\n",
    "        return 0\n",
    "    elif 4.2 <= magnitude < 6:\n",
    "        return 1\n",
    "    else:\n",
    "        return 2\n"
   ]
  },
  {
   "cell_type": "code",
   "execution_count": 65,
   "id": "bcd47c65",
   "metadata": {},
   "outputs": [],
   "source": [
    "# Apply the function to create a new column\n",
    "df_mult['Magnitude_Category'] = df_mult['Magnitude'].apply(categorize_magnitude)"
   ]
  },
  {
   "cell_type": "code",
   "execution_count": 66,
   "id": "81597489",
   "metadata": {},
   "outputs": [],
   "source": [
    "# Extract features (X) and target (y)\n",
    "X = df_mult.drop(['Magnitude','Magnitude_Category'], axis=1)  # Drop the target column to get the feature matrix X\n",
    "y = df_mult['Magnitude_Category']  # Select the target column as the target vector y"
   ]
  },
  {
   "cell_type": "code",
   "execution_count": 69,
   "id": "1fa64abf",
   "metadata": {},
   "outputs": [
    {
     "data": {
      "text/plain": [
       "2279"
      ]
     },
     "execution_count": 69,
     "metadata": {},
     "output_type": "execute_result"
    }
   ],
   "source": [
    "lst=(y==2)\n",
    "lst.sum()"
   ]
  },
  {
   "cell_type": "code",
   "execution_count": 73,
   "id": "1c6d499a",
   "metadata": {},
   "outputs": [],
   "source": [
    "# Split the data into training and testing sets\n",
    "X_train, X_test, y_train, y_test = train_test_split(X, y, test_size=0.2, random_state=5)"
   ]
  },
  {
   "cell_type": "code",
   "execution_count": 76,
   "id": "71a27769",
   "metadata": {},
   "outputs": [
    {
     "data": {
      "text/plain": [
       "RandomForestClassifier(random_state=5)"
      ]
     },
     "execution_count": 76,
     "metadata": {},
     "output_type": "execute_result"
    }
   ],
   "source": [
    "# Create a Random Forest classifier\n",
    "rf_classifier = RandomForestClassifier(n_estimators=100, random_state=5)\n",
    "\n",
    "# Train the classifier on the training data\n",
    "rf_classifier.fit(X_train, y_train)"
   ]
  },
  {
   "cell_type": "code",
   "execution_count": 77,
   "id": "e8df4af7",
   "metadata": {},
   "outputs": [],
   "source": [
    "#Make predictions and evaluate the model\n",
    "y_pred = rf_classifier.predict(X_test)"
   ]
  },
  {
   "cell_type": "code",
   "execution_count": 78,
   "id": "5b6868e5",
   "metadata": {},
   "outputs": [
    {
     "data": {
      "text/plain": [
       "{0, 1, 2}"
      ]
     },
     "execution_count": 78,
     "metadata": {},
     "output_type": "execute_result"
    }
   ],
   "source": [
    "set(y_test)"
   ]
  },
  {
   "cell_type": "code",
   "execution_count": 79,
   "id": "e00f7ad9",
   "metadata": {},
   "outputs": [
    {
     "data": {
      "text/plain": [
       "{0, 1, 2}"
      ]
     },
     "execution_count": 79,
     "metadata": {},
     "output_type": "execute_result"
    }
   ],
   "source": [
    "set(y_pred)"
   ]
  },
  {
   "cell_type": "code",
   "execution_count": 80,
   "id": "bb220d6a",
   "metadata": {},
   "outputs": [],
   "source": [
    "confusion_mat = confusion_matrix(y_test, y_pred)"
   ]
  },
  {
   "cell_type": "code",
   "execution_count": 81,
   "id": "d3eec23e",
   "metadata": {},
   "outputs": [
    {
     "data": {
      "text/plain": [
       "array([[15251,  5384,     0],\n",
       "       [ 4384, 16263,    30],\n",
       "       [   35,   245,   173]], dtype=int64)"
      ]
     },
     "execution_count": 81,
     "metadata": {},
     "output_type": "execute_result"
    }
   ],
   "source": [
    "confusion_mat"
   ]
  },
  {
   "cell_type": "code",
   "execution_count": 82,
   "id": "9f9c9f90",
   "metadata": {},
   "outputs": [
    {
     "name": "stdout",
     "output_type": "stream",
     "text": [
      "Accuracy: 0.7586974739614509\n",
      "Classification Report:\n",
      "               precision    recall  f1-score   support\n",
      "\n",
      "           0       0.78      0.74      0.76     20635\n",
      "           1       0.74      0.79      0.76     20677\n",
      "           2       0.85      0.38      0.53       453\n",
      "\n",
      "    accuracy                           0.76     41765\n",
      "   macro avg       0.79      0.64      0.68     41765\n",
      "weighted avg       0.76      0.76      0.76     41765\n",
      "\n",
      "Confusion Matrix:\n",
      " [[15251  5384     0]\n",
      " [ 4384 16263    30]\n",
      " [   35   245   173]]\n"
     ]
    }
   ],
   "source": [
    "accuracy = accuracy_score(y_test, y_pred)\n",
    "classification_rep = classification_report(y_test, y_pred)\n",
    "confusion_mat = confusion_matrix(y_test, y_pred)\n",
    "\n",
    "print(\"Accuracy:\", accuracy)\n",
    "print(\"Classification Report:\\n\", classification_rep)\n",
    "print(\"Confusion Matrix:\\n\", confusion_mat)"
   ]
  }
 ],
 "metadata": {
  "kernelspec": {
   "display_name": "Python 3 (ipykernel)",
   "language": "python",
   "name": "python3"
  },
  "language_info": {
   "codemirror_mode": {
    "name": "ipython",
    "version": 3
   },
   "file_extension": ".py",
   "mimetype": "text/x-python",
   "name": "python",
   "nbconvert_exporter": "python",
   "pygments_lexer": "ipython3",
   "version": "3.9.13"
  }
 },
 "nbformat": 4,
 "nbformat_minor": 5
}
